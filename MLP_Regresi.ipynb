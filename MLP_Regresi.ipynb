{
  "nbformat": 4,
  "nbformat_minor": 0,
  "metadata": {
    "colab": {
      "name": "MLP Regresi.ipynb",
      "provenance": []
    },
    "kernelspec": {
      "name": "python3",
      "display_name": "Python 3"
    },
    "language_info": {
      "name": "python"
    }
  },
  "cells": [
    {
      "cell_type": "markdown",
      "metadata": {
        "id": "BnnXMjDg9b0-"
      },
      "source": [
        "Melakukan regresi dengan MLP"
      ]
    },
    {
      "cell_type": "code",
      "metadata": {
        "id": "HwRZq8O79ip-"
      },
      "source": [
        "#import library\n",
        "from sklearn import metrics\n",
        "from sklearn.neural_network import MLPRegressor\n",
        "from sklearn.model_selection import train_test_split\n",
        "import matplotlib.pyplot as plt\n",
        "import seaborn as sns\n",
        "plt.style.use('ggplot')"
      ],
      "execution_count": 4,
      "outputs": []
    },
    {
      "cell_type": "code",
      "metadata": {
        "id": "8UKv1N0q-cNu"
      },
      "source": [
        "#load datasets\n",
        "from sklearn.datasets import load_boston\n",
        "boston= load_boston()"
      ],
      "execution_count": 14,
      "outputs": []
    },
    {
      "cell_type": "code",
      "metadata": {
        "colab": {
          "base_uri": "https://localhost:8080/"
        },
        "id": "5E5BUsRh_jPn",
        "outputId": "ebc11a16-3d88-46d5-8f67-d526a3655d30"
      },
      "source": [
        "#key boston datasets\n",
        "print (boston.keys())"
      ],
      "execution_count": 15,
      "outputs": [
        {
          "output_type": "stream",
          "text": [
            "dict_keys(['data', 'target', 'feature_names', 'DESCR', 'filename'])\n"
          ],
          "name": "stdout"
        }
      ]
    },
    {
      "cell_type": "code",
      "metadata": {
        "colab": {
          "base_uri": "https://localhost:8080/"
        },
        "id": "I_7ch4FX_vA-",
        "outputId": "3b4d7985-63d8-477e-a114-656a7018c2e7"
      },
      "source": [
        "print (boston.feature_names)"
      ],
      "execution_count": 16,
      "outputs": [
        {
          "output_type": "stream",
          "text": [
            "['CRIM' 'ZN' 'INDUS' 'CHAS' 'NOX' 'RM' 'AGE' 'DIS' 'RAD' 'TAX' 'PTRATIO'\n",
            " 'B' 'LSTAT']\n"
          ],
          "name": "stdout"
        }
      ]
    },
    {
      "cell_type": "code",
      "metadata": {
        "colab": {
          "base_uri": "https://localhost:8080/"
        },
        "id": "rH9EhELXABOh",
        "outputId": "51891153-9d37-4a68-8eb2-659967310d1a"
      },
      "source": [
        "print(boston.DESCR)"
      ],
      "execution_count": 17,
      "outputs": [
        {
          "output_type": "stream",
          "text": [
            ".. _boston_dataset:\n",
            "\n",
            "Boston house prices dataset\n",
            "---------------------------\n",
            "\n",
            "**Data Set Characteristics:**  \n",
            "\n",
            "    :Number of Instances: 506 \n",
            "\n",
            "    :Number of Attributes: 13 numeric/categorical predictive. Median Value (attribute 14) is usually the target.\n",
            "\n",
            "    :Attribute Information (in order):\n",
            "        - CRIM     per capita crime rate by town\n",
            "        - ZN       proportion of residential land zoned for lots over 25,000 sq.ft.\n",
            "        - INDUS    proportion of non-retail business acres per town\n",
            "        - CHAS     Charles River dummy variable (= 1 if tract bounds river; 0 otherwise)\n",
            "        - NOX      nitric oxides concentration (parts per 10 million)\n",
            "        - RM       average number of rooms per dwelling\n",
            "        - AGE      proportion of owner-occupied units built prior to 1940\n",
            "        - DIS      weighted distances to five Boston employment centres\n",
            "        - RAD      index of accessibility to radial highways\n",
            "        - TAX      full-value property-tax rate per $10,000\n",
            "        - PTRATIO  pupil-teacher ratio by town\n",
            "        - B        1000(Bk - 0.63)^2 where Bk is the proportion of blacks by town\n",
            "        - LSTAT    % lower status of the population\n",
            "        - MEDV     Median value of owner-occupied homes in $1000's\n",
            "\n",
            "    :Missing Attribute Values: None\n",
            "\n",
            "    :Creator: Harrison, D. and Rubinfeld, D.L.\n",
            "\n",
            "This is a copy of UCI ML housing dataset.\n",
            "https://archive.ics.uci.edu/ml/machine-learning-databases/housing/\n",
            "\n",
            "\n",
            "This dataset was taken from the StatLib library which is maintained at Carnegie Mellon University.\n",
            "\n",
            "The Boston house-price data of Harrison, D. and Rubinfeld, D.L. 'Hedonic\n",
            "prices and the demand for clean air', J. Environ. Economics & Management,\n",
            "vol.5, 81-102, 1978.   Used in Belsley, Kuh & Welsch, 'Regression diagnostics\n",
            "...', Wiley, 1980.   N.B. Various transformations are used in the table on\n",
            "pages 244-261 of the latter.\n",
            "\n",
            "The Boston house-price data has been used in many machine learning papers that address regression\n",
            "problems.   \n",
            "     \n",
            ".. topic:: References\n",
            "\n",
            "   - Belsley, Kuh & Welsch, 'Regression diagnostics: Identifying Influential Data and Sources of Collinearity', Wiley, 1980. 244-261.\n",
            "   - Quinlan,R. (1993). Combining Instance-Based and Model-Based Learning. In Proceedings on the Tenth International Conference of Machine Learning, 236-243, University of Massachusetts, Amherst. Morgan Kaufmann.\n",
            "\n"
          ],
          "name": "stdout"
        }
      ]
    },
    {
      "cell_type": "code",
      "metadata": {
        "colab": {
          "base_uri": "https://localhost:8080/"
        },
        "id": "6mnH-Hz_AQzg",
        "outputId": "83af13f4-cd1f-4472-fc5f-2555ce8dcca2"
      },
      "source": [
        "import pandas as pd\n",
        "boston_pd = pd.DataFrame(boston.data)\n",
        "print(boston_pd.head())"
      ],
      "execution_count": 18,
      "outputs": [
        {
          "output_type": "stream",
          "text": [
            "        0     1     2    3      4   ...   8      9     10      11    12\n",
            "0  0.00632  18.0  2.31  0.0  0.538  ...  1.0  296.0  15.3  396.90  4.98\n",
            "1  0.02731   0.0  7.07  0.0  0.469  ...  2.0  242.0  17.8  396.90  9.14\n",
            "2  0.02729   0.0  7.07  0.0  0.469  ...  2.0  242.0  17.8  392.83  4.03\n",
            "3  0.03237   0.0  2.18  0.0  0.458  ...  3.0  222.0  18.7  394.63  2.94\n",
            "4  0.06905   0.0  2.18  0.0  0.458  ...  3.0  222.0  18.7  396.90  5.33\n",
            "\n",
            "[5 rows x 13 columns]\n"
          ],
          "name": "stdout"
        }
      ]
    },
    {
      "cell_type": "code",
      "metadata": {
        "colab": {
          "base_uri": "https://localhost:8080/"
        },
        "id": "huHkd3n_Atyz",
        "outputId": "6fd28375-1f45-4616-efe7-1260131ec18a"
      },
      "source": [
        "boston_pd.columns = boston.feature_names\n",
        "print (boston_pd.head())"
      ],
      "execution_count": 19,
      "outputs": [
        {
          "output_type": "stream",
          "text": [
            "      CRIM    ZN  INDUS  CHAS    NOX  ...  RAD    TAX  PTRATIO       B  LSTAT\n",
            "0  0.00632  18.0   2.31   0.0  0.538  ...  1.0  296.0     15.3  396.90   4.98\n",
            "1  0.02731   0.0   7.07   0.0  0.469  ...  2.0  242.0     17.8  396.90   9.14\n",
            "2  0.02729   0.0   7.07   0.0  0.469  ...  2.0  242.0     17.8  392.83   4.03\n",
            "3  0.03237   0.0   2.18   0.0  0.458  ...  3.0  222.0     18.7  394.63   2.94\n",
            "4  0.06905   0.0   2.18   0.0  0.458  ...  3.0  222.0     18.7  396.90   5.33\n",
            "\n",
            "[5 rows x 13 columns]\n"
          ],
          "name": "stdout"
        }
      ]
    },
    {
      "cell_type": "code",
      "metadata": {
        "id": "LHUlbN2ZDJXX"
      },
      "source": [
        "#spllit data and target\n",
        "x=boston.data\n",
        "y=boston.target"
      ],
      "execution_count": 57,
      "outputs": []
    },
    {
      "cell_type": "code",
      "metadata": {
        "id": "IpVuDjoAI5uN"
      },
      "source": [
        "#preprocessing\n",
        "from sklearn.preprocessing import StandardScaler\n",
        "scaler= StandardScaler()\n",
        "x= scaler.fit_transform(x)"
      ],
      "execution_count": 58,
      "outputs": []
    },
    {
      "cell_type": "code",
      "metadata": {
        "id": "ZQ7chxXLJNgs"
      },
      "source": [
        "X_train, X_test, y_train, y_test = train_test_split (x,y, test_size = 0.25)"
      ],
      "execution_count": 59,
      "outputs": []
    },
    {
      "cell_type": "code",
      "metadata": {
        "colab": {
          "base_uri": "https://localhost:8080/"
        },
        "id": "9NH_b7yUEowQ",
        "outputId": "9d70b93e-5c75-4bc9-a91f-1648e36fe047"
      },
      "source": [
        "model = MLPRegressor(activation ='relu', hidden_layer_sizes =(50),solver='adam', max_iter= 200, verbose = True)\n",
        "model.fit(X_train, y_train)\n",
        "print(model)\n",
        "\n",
        "y_predict = model.predict (X_test)"
      ],
      "execution_count": 60,
      "outputs": [
        {
          "output_type": "stream",
          "text": [
            "Iteration 1, loss = 290.86220437\n",
            "Iteration 2, loss = 289.21585773\n",
            "Iteration 3, loss = 287.63904009\n",
            "Iteration 4, loss = 286.00473624\n",
            "Iteration 5, loss = 284.41065383\n",
            "Iteration 6, loss = 282.82317120\n",
            "Iteration 7, loss = 281.25671855\n",
            "Iteration 8, loss = 279.64225684\n",
            "Iteration 9, loss = 278.09269425\n",
            "Iteration 10, loss = 276.49072702\n",
            "Iteration 11, loss = 274.93439586\n",
            "Iteration 12, loss = 273.33267569\n",
            "Iteration 13, loss = 271.78404684\n",
            "Iteration 14, loss = 270.18279347\n",
            "Iteration 15, loss = 268.63019719\n",
            "Iteration 16, loss = 267.03428034\n",
            "Iteration 17, loss = 265.43454102\n",
            "Iteration 18, loss = 263.86630929\n",
            "Iteration 19, loss = 262.25390694\n",
            "Iteration 20, loss = 260.62237006\n",
            "Iteration 21, loss = 259.00864060\n",
            "Iteration 22, loss = 257.37008306\n",
            "Iteration 23, loss = 255.72270465\n",
            "Iteration 24, loss = 254.09073121\n",
            "Iteration 25, loss = 252.40977897\n",
            "Iteration 26, loss = 250.69689831\n",
            "Iteration 27, loss = 249.02266872\n",
            "Iteration 28, loss = 247.23414224\n",
            "Iteration 29, loss = 245.53351907\n",
            "Iteration 30, loss = 243.77526589\n",
            "Iteration 31, loss = 242.03131629\n",
            "Iteration 32, loss = 240.21630842\n",
            "Iteration 33, loss = 238.44046712\n",
            "Iteration 34, loss = 236.54129770\n",
            "Iteration 35, loss = 234.75224892\n",
            "Iteration 36, loss = 232.91356452\n",
            "Iteration 37, loss = 231.01840098\n",
            "Iteration 38, loss = 229.10907542\n",
            "Iteration 39, loss = 227.23858813\n",
            "Iteration 40, loss = 225.33150390\n",
            "Iteration 41, loss = 223.36077113\n",
            "Iteration 42, loss = 221.41394136\n",
            "Iteration 43, loss = 219.45162669\n",
            "Iteration 44, loss = 217.45328478\n",
            "Iteration 45, loss = 215.46475509\n",
            "Iteration 46, loss = 213.43226300\n",
            "Iteration 47, loss = 211.38133208\n",
            "Iteration 48, loss = 209.39449457\n",
            "Iteration 49, loss = 207.34390723\n",
            "Iteration 50, loss = 205.28557701\n",
            "Iteration 51, loss = 203.19711772\n",
            "Iteration 52, loss = 201.08143690\n",
            "Iteration 53, loss = 199.03226663\n",
            "Iteration 54, loss = 196.89721988\n",
            "Iteration 55, loss = 194.81126237\n",
            "Iteration 56, loss = 192.64870948\n",
            "Iteration 57, loss = 190.54196612\n",
            "Iteration 58, loss = 188.45689537\n",
            "Iteration 59, loss = 186.26831264\n",
            "Iteration 60, loss = 184.16619116\n",
            "Iteration 61, loss = 182.07540926\n",
            "Iteration 62, loss = 179.91953253\n",
            "Iteration 63, loss = 177.75889136\n",
            "Iteration 64, loss = 175.61088746\n",
            "Iteration 65, loss = 173.50926836\n",
            "Iteration 66, loss = 171.35193417\n",
            "Iteration 67, loss = 169.29496931\n",
            "Iteration 68, loss = 167.15882792\n",
            "Iteration 69, loss = 165.03500359\n",
            "Iteration 70, loss = 162.87841402\n",
            "Iteration 71, loss = 160.89137134\n",
            "Iteration 72, loss = 158.78128374\n",
            "Iteration 73, loss = 156.70906334\n",
            "Iteration 74, loss = 154.61918818\n",
            "Iteration 75, loss = 152.53550464\n",
            "Iteration 76, loss = 150.52605523\n",
            "Iteration 77, loss = 148.45682570\n",
            "Iteration 78, loss = 146.47709987\n",
            "Iteration 79, loss = 144.43339306\n",
            "Iteration 80, loss = 142.50473336\n",
            "Iteration 81, loss = 140.49592540\n",
            "Iteration 82, loss = 138.50124671\n",
            "Iteration 83, loss = 136.54861121\n",
            "Iteration 84, loss = 134.63000813\n",
            "Iteration 85, loss = 132.71631542\n",
            "Iteration 86, loss = 130.82496276\n",
            "Iteration 87, loss = 129.01490694\n",
            "Iteration 88, loss = 127.07184685\n",
            "Iteration 89, loss = 125.28993346\n",
            "Iteration 90, loss = 123.47572621\n",
            "Iteration 91, loss = 121.68363359\n",
            "Iteration 92, loss = 119.85472233\n",
            "Iteration 93, loss = 118.16395698\n",
            "Iteration 94, loss = 116.40340917\n",
            "Iteration 95, loss = 114.73898560\n",
            "Iteration 96, loss = 113.01005932\n",
            "Iteration 97, loss = 111.39764968\n",
            "Iteration 98, loss = 109.74852804\n",
            "Iteration 99, loss = 108.12954545\n",
            "Iteration 100, loss = 106.55417512\n",
            "Iteration 101, loss = 104.96100219\n",
            "Iteration 102, loss = 103.44081978\n",
            "Iteration 103, loss = 101.88923023\n",
            "Iteration 104, loss = 100.41854042\n",
            "Iteration 105, loss = 98.95430380\n",
            "Iteration 106, loss = 97.50416319\n",
            "Iteration 107, loss = 96.08464488\n",
            "Iteration 108, loss = 94.68653397\n",
            "Iteration 109, loss = 93.31278379\n",
            "Iteration 110, loss = 91.90901242\n",
            "Iteration 111, loss = 90.61068968\n",
            "Iteration 112, loss = 89.32185977\n",
            "Iteration 113, loss = 88.02580068\n",
            "Iteration 114, loss = 86.76432263\n",
            "Iteration 115, loss = 85.45795060\n",
            "Iteration 116, loss = 84.26149043\n",
            "Iteration 117, loss = 83.05231366\n",
            "Iteration 118, loss = 81.86560298\n",
            "Iteration 119, loss = 80.69733681\n",
            "Iteration 120, loss = 79.55448860\n",
            "Iteration 121, loss = 78.39351710\n",
            "Iteration 122, loss = 77.33151934\n",
            "Iteration 123, loss = 76.20136986\n",
            "Iteration 124, loss = 75.13550862\n",
            "Iteration 125, loss = 74.06610484\n",
            "Iteration 126, loss = 73.03289173\n",
            "Iteration 127, loss = 72.01648239\n",
            "Iteration 128, loss = 71.03181896\n",
            "Iteration 129, loss = 70.01377897\n",
            "Iteration 130, loss = 69.02604684\n",
            "Iteration 131, loss = 68.08277207\n",
            "Iteration 132, loss = 67.12925025\n",
            "Iteration 133, loss = 66.19810976\n",
            "Iteration 134, loss = 65.29849207\n",
            "Iteration 135, loss = 64.37835505\n",
            "Iteration 136, loss = 63.48621283\n",
            "Iteration 137, loss = 62.62057457\n",
            "Iteration 138, loss = 61.75880371\n",
            "Iteration 139, loss = 60.90663693\n",
            "Iteration 140, loss = 60.09993726\n",
            "Iteration 141, loss = 59.24022521\n",
            "Iteration 142, loss = 58.43010779\n",
            "Iteration 143, loss = 57.64286158\n",
            "Iteration 144, loss = 56.84087060\n",
            "Iteration 145, loss = 56.07225340\n",
            "Iteration 146, loss = 55.31312386\n",
            "Iteration 147, loss = 54.53464716\n",
            "Iteration 148, loss = 53.82948219\n",
            "Iteration 149, loss = 53.08963103\n",
            "Iteration 150, loss = 52.35963421\n",
            "Iteration 151, loss = 51.64039403\n",
            "Iteration 152, loss = 50.96320642\n",
            "Iteration 153, loss = 50.22171432\n",
            "Iteration 154, loss = 49.59970735\n",
            "Iteration 155, loss = 48.88225342\n",
            "Iteration 156, loss = 48.22543636\n",
            "Iteration 157, loss = 47.58931419\n",
            "Iteration 158, loss = 46.93317981\n",
            "Iteration 159, loss = 46.30190905\n",
            "Iteration 160, loss = 45.67399725\n",
            "Iteration 161, loss = 45.06367794\n",
            "Iteration 162, loss = 44.46509420\n",
            "Iteration 163, loss = 43.88416238\n",
            "Iteration 164, loss = 43.27596425\n",
            "Iteration 165, loss = 42.67885177\n",
            "Iteration 166, loss = 42.10644613\n",
            "Iteration 167, loss = 41.54566479\n",
            "Iteration 168, loss = 41.01029976\n",
            "Iteration 169, loss = 40.46206366\n",
            "Iteration 170, loss = 39.90945328\n",
            "Iteration 171, loss = 39.38569478\n",
            "Iteration 172, loss = 38.86855793\n",
            "Iteration 173, loss = 38.33532520\n",
            "Iteration 174, loss = 37.86628373\n",
            "Iteration 175, loss = 37.35019859\n",
            "Iteration 176, loss = 36.86658446\n",
            "Iteration 177, loss = 36.38986464\n",
            "Iteration 178, loss = 35.91808657\n",
            "Iteration 179, loss = 35.43804166\n",
            "Iteration 180, loss = 34.98726784\n",
            "Iteration 181, loss = 34.54384251\n",
            "Iteration 182, loss = 34.09421274\n",
            "Iteration 183, loss = 33.66283140\n",
            "Iteration 184, loss = 33.21576205\n",
            "Iteration 185, loss = 32.80185623\n",
            "Iteration 186, loss = 32.39984510\n",
            "Iteration 187, loss = 31.96451861\n",
            "Iteration 188, loss = 31.58460716\n",
            "Iteration 189, loss = 31.17909921\n",
            "Iteration 190, loss = 30.81448767\n",
            "Iteration 191, loss = 30.42880864\n",
            "Iteration 192, loss = 30.05248506\n",
            "Iteration 193, loss = 29.67348745\n",
            "Iteration 194, loss = 29.32918736\n",
            "Iteration 195, loss = 28.96680178\n",
            "Iteration 196, loss = 28.62132803\n",
            "Iteration 197, loss = 28.28599882\n",
            "Iteration 198, loss = 27.93761309\n",
            "Iteration 199, loss = 27.61214447\n",
            "Iteration 200, loss = 27.29028825\n",
            "MLPRegressor(activation='relu', alpha=0.0001, batch_size='auto', beta_1=0.9,\n",
            "             beta_2=0.999, early_stopping=False, epsilon=1e-08,\n",
            "             hidden_layer_sizes=50, learning_rate='constant',\n",
            "             learning_rate_init=0.001, max_fun=15000, max_iter=200,\n",
            "             momentum=0.9, n_iter_no_change=10, nesterovs_momentum=True,\n",
            "             power_t=0.5, random_state=None, shuffle=True, solver='adam',\n",
            "             tol=0.0001, validation_fraction=0.1, verbose=True,\n",
            "             warm_start=False)\n"
          ],
          "name": "stdout"
        },
        {
          "output_type": "stream",
          "text": [
            "/usr/local/lib/python3.7/dist-packages/sklearn/neural_network/_multilayer_perceptron.py:571: ConvergenceWarning: Stochastic Optimizer: Maximum iterations (200) reached and the optimization hasn't converged yet.\n",
            "  % self.max_iter, ConvergenceWarning)\n"
          ],
          "name": "stderr"
        }
      ]
    },
    {
      "cell_type": "code",
      "metadata": {
        "colab": {
          "base_uri": "https://localhost:8080/"
        },
        "id": "TeLmeR63FIGG",
        "outputId": "555a6306-4854-4917-8437-63778fdfcfb1"
      },
      "source": [
        "print(metrics.r2_score(y_test, y_predict))\n",
        "print(metrics.mean_squared_error(y_test, y_predict))"
      ],
      "execution_count": 61,
      "outputs": [
        {
          "output_type": "stream",
          "text": [
            "0.5750764624877146\n",
            "38.9636700364412\n"
          ],
          "name": "stdout"
        }
      ]
    },
    {
      "cell_type": "code",
      "metadata": {
        "colab": {
          "base_uri": "https://localhost:8080/",
          "height": 664
        },
        "id": "1xKaYggHGbyW",
        "outputId": "7602600d-eb51-4d5b-a954-ed2e85c5205f"
      },
      "source": [
        "plt.figure (figsize=(10,10))\n",
        "sns.regplot(y_test, y_predict, fit_reg=True, scatter_kws={\"s\":100})"
      ],
      "execution_count": 62,
      "outputs": [
        {
          "output_type": "stream",
          "text": [
            "/usr/local/lib/python3.7/dist-packages/seaborn/_decorators.py:43: FutureWarning: Pass the following variables as keyword args: x, y. From version 0.12, the only valid positional argument will be `data`, and passing other arguments without an explicit keyword will result in an error or misinterpretation.\n",
            "  FutureWarning\n"
          ],
          "name": "stderr"
        },
        {
          "output_type": "execute_result",
          "data": {
            "text/plain": [
              "<matplotlib.axes._subplots.AxesSubplot at 0x7f6995c28c10>"
            ]
          },
          "metadata": {
            "tags": []
          },
          "execution_count": 62
        },
        {
          "output_type": "display_data",
          "data": {
            "image/png": "[encoded data removed]",
            "text/plain": [
              "<Figure size 720x720 with 1 Axes>"
            ]
          },
          "metadata": {
            "tags": []
          }
        }
      ]
    }
  ]
}